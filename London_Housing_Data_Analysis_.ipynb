{
  "nbformat": 4,
  "nbformat_minor": 0,
  "metadata": {
    "colab": {
      "provenance": [],
      "authorship_tag": "ABX9TyNvG09x2uzfo7qwA9qqi81W",
      "include_colab_link": true
    },
    "kernelspec": {
      "name": "python3",
      "display_name": "Python 3"
    },
    "language_info": {
      "name": "python"
    }
  },
  "cells": [
    {
      "cell_type": "markdown",
      "metadata": {
        "id": "view-in-github",
        "colab_type": "text"
      },
      "source": [
        "<a href=\"https://colab.research.google.com/github/ultrasage-danz/London-Housing-Data-Analysis/blob/main/London_Housing_Data_Analysis_.ipynb\" target=\"_parent\"><img src=\"https://colab.research.google.com/assets/colab-badge.svg\" alt=\"Open In Colab\"/></a>"
      ]
    },
    {
      "cell_type": "markdown",
      "source": [
        "##**London housing**"
      ],
      "metadata": {
        "id": "ZbariYuSfUlL"
      }
    },
    {
      "cell_type": "markdown",
      "source": [
        ">import pandas"
      ],
      "metadata": {
        "id": "jU_fc4OSfdhd"
      }
    },
    {
      "cell_type": "code",
      "execution_count": 1,
      "metadata": {
        "id": "N_Jo-Wa-ccBI"
      },
      "outputs": [],
      "source": [
        "import pandas as pd"
      ]
    },
    {
      "cell_type": "markdown",
      "source": [
        ">Create dataframe from csv"
      ],
      "metadata": {
        "id": "tM_NFeYwfg-l"
      }
    },
    {
      "cell_type": "code",
      "source": [
        "url = \"https://raw.githubusercontent.com/ultrasage-danz/London-Housing-Data-Analysis/main/Housing%2BData.csv\"\n",
        "df = pd.read_csv(url)\n",
        "df.head()"
      ],
      "metadata": {
        "id": "ocD6m9HkfLwv"
      },
      "execution_count": null,
      "outputs": []
    }
  ]
}